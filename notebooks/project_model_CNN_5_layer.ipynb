{
 "cells": [
  {
   "cell_type": "code",
   "execution_count": 0,
   "metadata": {
    "colab": {},
    "colab_type": "code",
    "id": "7y7j2e1GRJBL"
   },
   "outputs": [],
   "source": [
    "#Libraries \n",
    "#!pip install imageio\n",
    "import sys\n",
    "import os\n",
    "import tarfile\n",
    "import shutil\n",
    "import numpy as np\n",
    "import pandas as pd\n",
    "import matplotlib.pyplot as plt\n",
    "from matplotlib.pyplot import imshow\n",
    "from keras import regularizers\n",
    "from keras.models import Sequential\n",
    "from keras.layers import Dropout, Activation, Dense\n",
    "from keras.layers.normalization import BatchNormalization\n",
    "from keras.layers import Convolution2D,MaxPooling2D , Flatten\n",
    "\n",
    "\n"
   ]
  },
  {
   "cell_type": "code",
   "execution_count": 0,
   "metadata": {
    "colab": {
     "base_uri": "https://localhost:8080/",
     "height": 122
    },
    "colab_type": "code",
    "id": "tb1UMGK5cDUg",
    "outputId": "5588395f-2f1d-4739-a9bd-15f7d25e5c2c"
   },
   "outputs": [
    {
     "name": "stdout",
     "output_type": "stream",
     "text": [
      "Go to this URL in a browser: https://accounts.google.com/o/oauth2/auth?client_id=947318989803-6bn6qk8qdgf4n4g3pfee6491hc0brc4i.apps.googleusercontent.com&redirect_uri=urn%3Aietf%3Awg%3Aoauth%3A2.0%3Aoob&scope=email%20https%3A%2F%2Fwww.googleapis.com%2Fauth%2Fdocs.test%20https%3A%2F%2Fwww.googleapis.com%2Fauth%2Fdrive%20https%3A%2F%2Fwww.googleapis.com%2Fauth%2Fdrive.photos.readonly%20https%3A%2F%2Fwww.googleapis.com%2Fauth%2Fpeopleapi.readonly&response_type=code\n",
      "\n",
      "Enter your authorization code:\n",
      "··········\n",
      "Mounted at /content/gdrive\n"
     ]
    }
   ],
   "source": [
    "from google.colab import drive\n",
    "drive.mount('/content/gdrive')"
   ]
  },
  {
   "cell_type": "code",
   "execution_count": 0,
   "metadata": {
    "colab": {},
    "colab_type": "code",
    "id": "8HWIuKro1BuQ"
   },
   "outputs": [],
   "source": [
    "xtrain=np.load('gdrive/My Drive/Colab Notebooks/X_train_64.npy')\n",
    "xtest=np.load('gdrive/My Drive/Colab Notebooks/X_test_64.npy')\n",
    "ytrain=np.load('gdrive/My Drive/Colab Notebooks/y_train_64.npy')\n",
    "ytest=np.load('gdrive/My Drive/Colab Notebooks/y_test_64.npy')"
   ]
  },
  {
   "cell_type": "code",
   "execution_count": 7,
   "metadata": {
    "colab": {
     "base_uri": "https://localhost:8080/",
     "height": 1734
    },
    "colab_type": "code",
    "id": "qXQaz_d2qFs-",
    "outputId": "f5e55613-506c-48f7-b1d2-97832b68001d"
   },
   "outputs": [
    {
     "name": "stdout",
     "output_type": "stream",
     "text": [
      "_________________________________________________________________\n",
      "Layer (type)                 Output Shape              Param #   \n",
      "=================================================================\n",
      "conv2d_5 (Conv2D)            (None, 64, 64, 16)        208       \n",
      "_________________________________________________________________\n",
      "batch_normalization_6 (Batch (None, 64, 64, 16)        64        \n",
      "_________________________________________________________________\n",
      "max_pooling2d_5 (MaxPooling2 (None, 32, 32, 16)        0         \n",
      "_________________________________________________________________\n",
      "dropout_6 (Dropout)          (None, 32, 32, 16)        0         \n",
      "_________________________________________________________________\n",
      "conv2d_6 (Conv2D)            (None, 32, 32, 32)        2080      \n",
      "_________________________________________________________________\n",
      "batch_normalization_7 (Batch (None, 32, 32, 32)        128       \n",
      "_________________________________________________________________\n",
      "max_pooling2d_6 (MaxPooling2 (None, 16, 16, 32)        0         \n",
      "_________________________________________________________________\n",
      "dropout_7 (Dropout)          (None, 16, 16, 32)        0         \n",
      "_________________________________________________________________\n",
      "conv2d_7 (Conv2D)            (None, 16, 16, 64)        8256      \n",
      "_________________________________________________________________\n",
      "batch_normalization_8 (Batch (None, 16, 16, 64)        256       \n",
      "_________________________________________________________________\n",
      "max_pooling2d_7 (MaxPooling2 (None, 8, 8, 64)          0         \n",
      "_________________________________________________________________\n",
      "dropout_8 (Dropout)          (None, 8, 8, 64)          0         \n",
      "_________________________________________________________________\n",
      "conv2d_8 (Conv2D)            (None, 8, 8, 128)         32896     \n",
      "_________________________________________________________________\n",
      "batch_normalization_9 (Batch (None, 8, 8, 128)         512       \n",
      "_________________________________________________________________\n",
      "max_pooling2d_8 (MaxPooling2 (None, 4, 4, 128)         0         \n",
      "_________________________________________________________________\n",
      "dropout_9 (Dropout)          (None, 4, 4, 128)         0         \n",
      "_________________________________________________________________\n",
      "conv2d_9 (Conv2D)            (None, 4, 4, 256)         131328    \n",
      "_________________________________________________________________\n",
      "batch_normalization_10 (Batc (None, 4, 4, 256)         1024      \n",
      "_________________________________________________________________\n",
      "max_pooling2d_9 (MaxPooling2 (None, 2, 2, 256)         0         \n",
      "_________________________________________________________________\n",
      "dropout_10 (Dropout)         (None, 2, 2, 256)         0         \n",
      "_________________________________________________________________\n",
      "flatten_2 (Flatten)          (None, 1024)              0         \n",
      "_________________________________________________________________\n",
      "dense_3 (Dense)              (None, 1000)              1025000   \n",
      "_________________________________________________________________\n",
      "batch_normalization_11 (Batc (None, 1000)              4000      \n",
      "_________________________________________________________________\n",
      "activation_2 (Activation)    (None, 1000)              0         \n",
      "_________________________________________________________________\n",
      "dropout_11 (Dropout)         (None, 1000)              0         \n",
      "_________________________________________________________________\n",
      "dense_4 (Dense)              (None, 120)               120120    \n",
      "=================================================================\n",
      "Total params: 1,325,872\n",
      "Trainable params: 1,322,880\n",
      "Non-trainable params: 2,992\n",
      "_________________________________________________________________\n",
      "None\n",
      "Train on 13171 samples, validate on 3293 samples\n",
      "Epoch 1/20\n",
      "13171/13171 [==============================] - 10s 764us/step - loss: 7.4849 - acc: 0.0271 - val_loss: 7.3680 - val_acc: 0.0182\n",
      "Epoch 2/20\n",
      "13171/13171 [==============================] - 7s 554us/step - loss: 5.9748 - acc: 0.0529 - val_loss: 6.3984 - val_acc: 0.0282\n",
      "Epoch 3/20\n",
      "13171/13171 [==============================] - 7s 551us/step - loss: 5.1896 - acc: 0.0700 - val_loss: 5.9495 - val_acc: 0.0295\n",
      "Epoch 4/20\n",
      "13171/13171 [==============================] - 7s 554us/step - loss: 4.7615 - acc: 0.0916 - val_loss: 5.2560 - val_acc: 0.0553\n",
      "Epoch 5/20\n",
      "13171/13171 [==============================] - 7s 546us/step - loss: 4.4935 - acc: 0.1100 - val_loss: 5.0111 - val_acc: 0.0619\n",
      "Epoch 6/20\n",
      "13171/13171 [==============================] - 7s 547us/step - loss: 4.2829 - acc: 0.1267 - val_loss: 4.7248 - val_acc: 0.0911\n",
      "Epoch 7/20\n",
      "13171/13171 [==============================] - 7s 549us/step - loss: 4.1570 - acc: 0.1418 - val_loss: 4.5958 - val_acc: 0.0951\n",
      "Epoch 8/20\n",
      "13171/13171 [==============================] - 7s 552us/step - loss: 4.0194 - acc: 0.1604 - val_loss: 4.5414 - val_acc: 0.1057\n",
      "Epoch 9/20\n",
      "13171/13171 [==============================] - 7s 551us/step - loss: 3.9252 - acc: 0.1784 - val_loss: 4.5620 - val_acc: 0.1039\n",
      "Epoch 10/20\n",
      "13171/13171 [==============================] - 7s 552us/step - loss: 3.8389 - acc: 0.1950 - val_loss: 4.5534 - val_acc: 0.1184\n",
      "Epoch 11/20\n",
      "13171/13171 [==============================] - 7s 547us/step - loss: 3.7484 - acc: 0.2125 - val_loss: 4.5265 - val_acc: 0.1187\n",
      "Epoch 12/20\n",
      "13171/13171 [==============================] - 7s 552us/step - loss: 3.6531 - acc: 0.2385 - val_loss: 4.7243 - val_acc: 0.1023\n",
      "Epoch 13/20\n",
      "13171/13171 [==============================] - 7s 553us/step - loss: 3.5726 - acc: 0.2562 - val_loss: 4.7702 - val_acc: 0.1090\n",
      "Epoch 14/20\n",
      "13171/13171 [==============================] - 7s 551us/step - loss: 3.4938 - acc: 0.2721 - val_loss: 4.6120 - val_acc: 0.1215\n",
      "Epoch 15/20\n",
      "13171/13171 [==============================] - 7s 554us/step - loss: 3.4105 - acc: 0.2906 - val_loss: 4.6008 - val_acc: 0.1309\n",
      "Epoch 16/20\n",
      "13171/13171 [==============================] - 7s 553us/step - loss: 3.3366 - acc: 0.3127 - val_loss: 4.6287 - val_acc: 0.1333\n",
      "Epoch 17/20\n",
      "13171/13171 [==============================] - 7s 551us/step - loss: 3.2501 - acc: 0.3300 - val_loss: 4.7058 - val_acc: 0.1342\n",
      "Epoch 18/20\n",
      "13171/13171 [==============================] - 7s 551us/step - loss: 3.1636 - acc: 0.3527 - val_loss: 4.7928 - val_acc: 0.1172\n",
      "Epoch 19/20\n",
      "13171/13171 [==============================] - 7s 553us/step - loss: 3.1013 - acc: 0.3687 - val_loss: 4.6883 - val_acc: 0.1427\n",
      "Epoch 20/20\n",
      "13171/13171 [==============================] - 7s 553us/step - loss: 3.0089 - acc: 0.3872 - val_loss: 4.6568 - val_acc: 0.1436\n"
     ]
    }
   ],
   "source": [
    "#create model\n",
    "model = Sequential()\n",
    "\n",
    "# Convolution layer 1\n",
    "model.add(Convolution2D(filters = 16, kernel_size = (2,2),padding = 'Same', \n",
    "                         activation ='relu', kernel_regularizer=regularizers.l2(0.01),\n",
    "                        input_shape = (64, 64, 3))) \n",
    "model.add(BatchNormalization())\n",
    "model.add(MaxPooling2D(pool_size=(2,2)))\n",
    "model.add(Dropout(0.2))\n",
    "\n",
    "# Convolution layer 2\n",
    "model.add(Convolution2D (filters = 32, kernel_size = (2,2),padding = 'Same', \n",
    "                         activation ='relu',kernel_regularizer=regularizers.l2(0.01))) \n",
    "model.add(BatchNormalization())\n",
    "model.add(MaxPooling2D(pool_size=(2,2)))\n",
    "model.add(Dropout(0.2))\n",
    "\n",
    "# Convolution layer 3\n",
    "model.add(Convolution2D (filters = 64, kernel_size = (2,2),padding = 'Same', \n",
    "                         activation ='relu',kernel_regularizer=regularizers.l2(0.01))) \n",
    "model.add(BatchNormalization())\n",
    "model.add(MaxPooling2D(pool_size=(2,2)))\n",
    "model.add(Dropout(0.2))\n",
    "\n",
    "# Convolution layer 4\n",
    "model.add(Convolution2D (filters = 128, kernel_size = (2,2),padding = 'Same', \n",
    "                         activation ='relu',kernel_regularizer=regularizers.l2(0.01))) \n",
    "model.add(BatchNormalization())\n",
    "model.add(MaxPooling2D(pool_size=(2,2)))\n",
    "model.add(Dropout(0.2))\n",
    "\n",
    "# Convolution layer 5\n",
    "model.add(Convolution2D (filters = 256, kernel_size = (2,2),padding = 'Same', \n",
    "                         activation ='relu',kernel_regularizer=regularizers.l2(0.01))) \n",
    "model.add(BatchNormalization())\n",
    "model.add(MaxPooling2D(pool_size=(2,2)))\n",
    "model.add(Dropout(0.2))\n",
    "\n",
    "\n",
    "# Flatten\n",
    "model.add(Flatten()) \n",
    "\n",
    "# Fully connected layer \n",
    "model.add(Dense(units = 1000)) \n",
    "model.add(BatchNormalization())\n",
    "model.add(Activation('relu')) \n",
    "model.add(Dropout(0.2))\n",
    "\n",
    "#Output layer with 120 nodes\n",
    "model.add(Dense(120, activation = 'softmax')) \n",
    "# Compile model\n",
    "\n",
    "model.compile(loss='categorical_crossentropy',optimizer='adam', metrics=['accuracy'])\n",
    "print(model.summary())\n",
    "model_history = model.fit(xtrain, ytrain, epochs=20, batch_size=64,validation_split=0.2)"
   ]
  },
  {
   "cell_type": "code",
   "execution_count": 8,
   "metadata": {
    "colab": {
     "base_uri": "https://localhost:8080/",
     "height": 355
    },
    "colab_type": "code",
    "id": "th9ByY4gp6SO",
    "outputId": "7218fd14-8d5d-45bc-ad3f-4190b518302d"
   },
   "outputs": [
    {
     "data": {
      "image/png": "[encoded data removed]",
      "text/plain": [
       "<matplotlib.figure.Figure at 0x7fe50362eac8>"
      ]
     },
     "metadata": {
      "tags": []
     },
     "output_type": "display_data"
    }
   ],
   "source": [
    "def get_plots(model):\n",
    "    fig, (ax1,ax2) = plt.subplots(1, 2, figsize=(15,5))\n",
    "    ax1.plot((model.history['loss']), 'r', label='Training_loss')\n",
    "    ax1.plot((model.history['val_loss']), 'b' ,label='Validation_loss')\n",
    "    ax1.set_xlabel(r'Epoch', fontsize=12)\n",
    "    ax1.set_ylabel(r'Loss', fontsize=12)\n",
    "    ax1.legend()\n",
    "    ax1.set_title(\"training and validation loss\")\n",
    "    ax1.tick_params(labelsize=15)\n",
    "\n",
    "\n",
    "    ax2.plot(model.history['acc'], 'r', label='Training_accuracy')\n",
    "    ax2.plot(model.history['val_acc'], 'b' ,label='Validation_accuracy')\n",
    "    ax2.set_xlabel(r'Epoch', fontsize=12)\n",
    "    ax2.set_ylabel(r'Accuracy', fontsize=12)\n",
    "    ax2.legend()\n",
    "    ax2.set_title(\"training and validation accuracy\")\n",
    "    ax2.tick_params(labelsize=15)\n",
    "\n",
    "get_plots(model_history)"
   ]
  },
  {
   "cell_type": "code",
   "execution_count": 9,
   "metadata": {
    "colab": {
     "base_uri": "https://localhost:8080/",
     "height": 34
    },
    "colab_type": "code",
    "id": "N5n9Oi_Y85cR",
    "outputId": "55ec4524-ff68-485d-fa48-d1b86a9499a8"
   },
   "outputs": [
    {
     "name": "stdout",
     "output_type": "stream",
     "text": [
      " The test accuracy is 13.726919339526267\n"
     ]
    }
   ],
   "source": [
    "scores = model.evaluate(xtest, ytest, verbose=0)\n",
    "print(\" The test accuracy is {}\".format(scores[1]*100))"
   ]
  },
  {
   "cell_type": "code",
   "execution_count": 0,
   "metadata": {
    "colab": {},
    "colab_type": "code",
    "id": "ReJoNMMwPP7l"
   },
   "outputs": [],
   "source": []
  }
 ],
 "metadata": {
  "accelerator": "GPU",
  "colab": {
   "collapsed_sections": [],
   "name": "project_model2.ipynb",
   "provenance": [],
   "toc_visible": true,
   "version": "0.3.2"
  },
  "kernelspec": {
   "display_name": "Python 3",
   "language": "python",
   "name": "python3"
  },
  "language_info": {
   "codemirror_mode": {
    "name": "ipython",
    "version": 3
   },
   "file_extension": ".py",
   "mimetype": "text/x-python",
   "name": "python",
   "nbconvert_exporter": "python",
   "pygments_lexer": "ipython3",
   "version": "3.5.4"
  }
 },
 "nbformat": 4,
 "nbformat_minor": 1
}
